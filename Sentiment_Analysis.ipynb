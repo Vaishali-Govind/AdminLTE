{
  "nbformat": 4,
  "nbformat_minor": 0,
  "metadata": {
    "colab": {
      "name": "Sentiment-Analysis.ipynb",
      "provenance": [],
      "authorship_tag": "ABX9TyNwJmg3dQV6ZG8O6H/Ceem2",
      "include_colab_link": true
    },
    "kernelspec": {
      "name": "python3",
      "display_name": "Python 3"
    }
  },
  "cells": [
    {
      "cell_type": "markdown",
      "metadata": {
        "id": "view-in-github",
        "colab_type": "text"
      },
      "source": [
        "<a href=\"https://colab.research.google.com/github/Vaishali-Govind/AdminLTE/blob/master/Sentiment_Analysis.ipynb\" target=\"_parent\"><img src=\"https://colab.research.google.com/assets/colab-badge.svg\" alt=\"Open In Colab\"/></a>"
      ]
    },
    {
      "cell_type": "code",
      "metadata": {
        "id": "VFsf0r6wdhwE",
        "colab_type": "code",
        "colab": {
          "base_uri": "https://localhost:8080/",
          "height": 134
        },
        "outputId": "dd59403e-935f-4ba9-ffd1-656ce1c2eb84"
      },
      "source": [
        "!unzip zomato.zip"
      ],
      "execution_count": 1,
      "outputs": [
        {
          "output_type": "stream",
          "text": [
            "Archive:  zomato.zip\n",
            "  inflating: zomato/new_processed_reviews.csv  \n",
            "  inflating: zomato/new_restaurant.csv  \n",
            "  inflating: zomato/processed_restaurants.csv  \n",
            "  inflating: zomato/processed_reviews.csv  \n",
            "  inflating: zomato/restaurants.json  \n",
            "  inflating: zomato/reviews.json     \n"
          ],
          "name": "stdout"
        }
      ]
    },
    {
      "cell_type": "code",
      "metadata": {
        "id": "UIWtx-gqeNSw",
        "colab_type": "code",
        "colab": {
          "base_uri": "https://localhost:8080/",
          "height": 70
        },
        "outputId": "a5be930c-8687-4e21-e09e-3cea51accd0d"
      },
      "source": [
        "import numpy as np\n",
        "import pandas as pd\n",
        "import matplotlib.pyplot as plt\n",
        "import seaborn as sns\n",
        "\n",
        "# Importing NLTK library for using stop words method\n",
        "import nltk\n",
        "from nltk.corpus import stopwords\n",
        "\n",
        "from sklearn.feature_extraction.text import CountVectorizer\n",
        "%matplotlib inline"
      ],
      "execution_count": 2,
      "outputs": [
        {
          "output_type": "stream",
          "text": [
            "/usr/local/lib/python3.6/dist-packages/statsmodels/tools/_testing.py:19: FutureWarning: pandas.util.testing is deprecated. Use the functions in the public API at pandas.testing instead.\n",
            "  import pandas.util.testing as tm\n"
          ],
          "name": "stderr"
        }
      ]
    },
    {
      "cell_type": "code",
      "metadata": {
        "id": "RpZTdad3eohw",
        "colab_type": "code",
        "colab": {
          "base_uri": "https://localhost:8080/",
          "height": 195
        },
        "outputId": "641acc16-357c-4480-c0b5-354ea6b036c5"
      },
      "source": [
        "sdf = pd.read_csv('zomato/new_processed_reviews.csv')\n",
        "sdf.head()"
      ],
      "execution_count": 3,
      "outputs": [
        {
          "output_type": "execute_result",
          "data": {
            "text/html": [
              "<div>\n",
              "<style scoped>\n",
              "    .dataframe tbody tr th:only-of-type {\n",
              "        vertical-align: middle;\n",
              "    }\n",
              "\n",
              "    .dataframe tbody tr th {\n",
              "        vertical-align: top;\n",
              "    }\n",
              "\n",
              "    .dataframe thead th {\n",
              "        text-align: right;\n",
              "    }\n",
              "</style>\n",
              "<table border=\"1\" class=\"dataframe\">\n",
              "  <thead>\n",
              "    <tr style=\"text-align: right;\">\n",
              "      <th></th>\n",
              "      <th>user_id</th>\n",
              "      <th>entity_id</th>\n",
              "      <th>review_id</th>\n",
              "      <th>datetime</th>\n",
              "      <th>rating</th>\n",
              "      <th>cool</th>\n",
              "      <th>useful</th>\n",
              "      <th>funny</th>\n",
              "      <th>content</th>\n",
              "    </tr>\n",
              "  </thead>\n",
              "  <tbody>\n",
              "    <tr>\n",
              "      <th>0</th>\n",
              "      <td>2042820</td>\n",
              "      <td>44568</td>\n",
              "      <td>44166735</td>\n",
              "      <td>2019-07-25 12:19:02</td>\n",
              "      <td>1.0</td>\n",
              "      <td>2</td>\n",
              "      <td>5</td>\n",
              "      <td>4</td>\n",
              "      <td>i have been a very loyal customer to global fu...</td>\n",
              "    </tr>\n",
              "    <tr>\n",
              "      <th>1</th>\n",
              "      <td>57816837</td>\n",
              "      <td>44568</td>\n",
              "      <td>44134010</td>\n",
              "      <td>2019-07-23 00:36:53</td>\n",
              "      <td>5.0</td>\n",
              "      <td>1</td>\n",
              "      <td>4</td>\n",
              "      <td>5</td>\n",
              "      <td>visited first time on my visit to mumbai and f...</td>\n",
              "    </tr>\n",
              "    <tr>\n",
              "      <th>2</th>\n",
              "      <td>42096287</td>\n",
              "      <td>44568</td>\n",
              "      <td>44132846</td>\n",
              "      <td>2019-07-22 23:10:33</td>\n",
              "      <td>5.0</td>\n",
              "      <td>3</td>\n",
              "      <td>3</td>\n",
              "      <td>4</td>\n",
              "      <td>this place is an absolute delight of you're a ...</td>\n",
              "    </tr>\n",
              "    <tr>\n",
              "      <th>3</th>\n",
              "      <td>33538931</td>\n",
              "      <td>44568</td>\n",
              "      <td>44082978</td>\n",
              "      <td>2019-07-20 04:42:05</td>\n",
              "      <td>5.0</td>\n",
              "      <td>5</td>\n",
              "      <td>2</td>\n",
              "      <td>3</td>\n",
              "      <td>this is one of the coolest places for a buffet...</td>\n",
              "    </tr>\n",
              "    <tr>\n",
              "      <th>4</th>\n",
              "      <td>34390186</td>\n",
              "      <td>44568</td>\n",
              "      <td>44021065</td>\n",
              "      <td>2019-07-15 22:29:08</td>\n",
              "      <td>4.0</td>\n",
              "      <td>0</td>\n",
              "      <td>1</td>\n",
              "      <td>2</td>\n",
              "      <td>good food, has vast variety to choose from, su...</td>\n",
              "    </tr>\n",
              "  </tbody>\n",
              "</table>\n",
              "</div>"
            ],
            "text/plain": [
              "    user_id  ...                                            content\n",
              "0   2042820  ...  i have been a very loyal customer to global fu...\n",
              "1  57816837  ...  visited first time on my visit to mumbai and f...\n",
              "2  42096287  ...  this place is an absolute delight of you're a ...\n",
              "3  33538931  ...  this is one of the coolest places for a buffet...\n",
              "4  34390186  ...  good food, has vast variety to choose from, su...\n",
              "\n",
              "[5 rows x 9 columns]"
            ]
          },
          "metadata": {
            "tags": []
          },
          "execution_count": 3
        }
      ]
    },
    {
      "cell_type": "code",
      "metadata": {
        "id": "LMcZoE_egBx_",
        "colab_type": "code",
        "colab": {
          "base_uri": "https://localhost:8080/",
          "height": 34
        },
        "outputId": "16f16eb8-8a26-4d48-b3a7-98b5220dee56"
      },
      "source": [
        "print(sdf.shape)"
      ],
      "execution_count": 5,
      "outputs": [
        {
          "output_type": "stream",
          "text": [
            "(3228, 9)\n"
          ],
          "name": "stdout"
        }
      ]
    },
    {
      "cell_type": "code",
      "metadata": {
        "id": "SPH9BMdXgP3F",
        "colab_type": "code",
        "colab": {
          "base_uri": "https://localhost:8080/",
          "height": 302
        },
        "outputId": "1885cc9e-ac46-4e0d-c243-ee4c728c8b7f"
      },
      "source": [
        "print(sdf.info())"
      ],
      "execution_count": 6,
      "outputs": [
        {
          "output_type": "stream",
          "text": [
            "<class 'pandas.core.frame.DataFrame'>\n",
            "RangeIndex: 3228 entries, 0 to 3227\n",
            "Data columns (total 9 columns):\n",
            " #   Column     Non-Null Count  Dtype  \n",
            "---  ------     --------------  -----  \n",
            " 0   user_id    3228 non-null   int64  \n",
            " 1   entity_id  3228 non-null   int64  \n",
            " 2   review_id  3228 non-null   int64  \n",
            " 3   datetime   3228 non-null   object \n",
            " 4   rating     3228 non-null   float64\n",
            " 5   cool       3228 non-null   int64  \n",
            " 6   useful     3228 non-null   int64  \n",
            " 7   funny      3228 non-null   int64  \n",
            " 8   content    3228 non-null   object \n",
            "dtypes: float64(1), int64(6), object(2)\n",
            "memory usage: 227.1+ KB\n",
            "None\n"
          ],
          "name": "stdout"
        }
      ]
    },
    {
      "cell_type": "code",
      "metadata": {
        "id": "m-4WedvPgf2l",
        "colab_type": "code",
        "colab": {
          "base_uri": "https://localhost:8080/",
          "height": 252
        },
        "outputId": "616680b5-738d-40ff-d5c6-233b1b45ee83"
      },
      "source": [
        "print(sdf.describe)"
      ],
      "execution_count": 7,
      "outputs": [
        {
          "output_type": "stream",
          "text": [
            "<bound method NDFrame.describe of        user_id  ...                                            content\n",
            "0      2042820  ...  i have been a very loyal customer to global fu...\n",
            "1     57816837  ...  visited first time on my visit to mumbai and f...\n",
            "2     42096287  ...  this place is an absolute delight of you're a ...\n",
            "3     33538931  ...  this is one of the coolest places for a buffet...\n",
            "4     34390186  ...  good food, has vast variety to choose from, su...\n",
            "...        ...  ...                                                ...\n",
            "3223  86004469  ...  the place was way better than how i expected i...\n",
            "3224  87603493  ...  the perfect location, awesome ambience, with d...\n",
            "3225   1602868  ...  amazing food and service but you always need t...\n",
            "3226  86086246  ...  quality service and quality food great taste a...\n",
            "3227  52180097  ...  was a wonderful night.enjoyed a lot, just love...\n",
            "\n",
            "[3228 rows x 9 columns]>\n"
          ],
          "name": "stdout"
        }
      ]
    },
    {
      "cell_type": "code",
      "metadata": {
        "id": "nOdvRXDDgvMH",
        "colab_type": "code",
        "colab": {
          "base_uri": "https://localhost:8080/",
          "height": 195
        },
        "outputId": "a5c03501-e6dd-43aa-959a-5856ab34b748"
      },
      "source": [
        "#creating a new column for length of the text\n",
        "sdf['text_len'] = sdf['content'].apply(len)\n",
        "sdf.head()"
      ],
      "execution_count": 8,
      "outputs": [
        {
          "output_type": "execute_result",
          "data": {
            "text/html": [
              "<div>\n",
              "<style scoped>\n",
              "    .dataframe tbody tr th:only-of-type {\n",
              "        vertical-align: middle;\n",
              "    }\n",
              "\n",
              "    .dataframe tbody tr th {\n",
              "        vertical-align: top;\n",
              "    }\n",
              "\n",
              "    .dataframe thead th {\n",
              "        text-align: right;\n",
              "    }\n",
              "</style>\n",
              "<table border=\"1\" class=\"dataframe\">\n",
              "  <thead>\n",
              "    <tr style=\"text-align: right;\">\n",
              "      <th></th>\n",
              "      <th>user_id</th>\n",
              "      <th>entity_id</th>\n",
              "      <th>review_id</th>\n",
              "      <th>datetime</th>\n",
              "      <th>rating</th>\n",
              "      <th>cool</th>\n",
              "      <th>useful</th>\n",
              "      <th>funny</th>\n",
              "      <th>content</th>\n",
              "      <th>text_len</th>\n",
              "    </tr>\n",
              "  </thead>\n",
              "  <tbody>\n",
              "    <tr>\n",
              "      <th>0</th>\n",
              "      <td>2042820</td>\n",
              "      <td>44568</td>\n",
              "      <td>44166735</td>\n",
              "      <td>2019-07-25 12:19:02</td>\n",
              "      <td>1.0</td>\n",
              "      <td>2</td>\n",
              "      <td>5</td>\n",
              "      <td>4</td>\n",
              "      <td>i have been a very loyal customer to global fu...</td>\n",
              "      <td>1152</td>\n",
              "    </tr>\n",
              "    <tr>\n",
              "      <th>1</th>\n",
              "      <td>57816837</td>\n",
              "      <td>44568</td>\n",
              "      <td>44134010</td>\n",
              "      <td>2019-07-23 00:36:53</td>\n",
              "      <td>5.0</td>\n",
              "      <td>1</td>\n",
              "      <td>4</td>\n",
              "      <td>5</td>\n",
              "      <td>visited first time on my visit to mumbai and f...</td>\n",
              "      <td>828</td>\n",
              "    </tr>\n",
              "    <tr>\n",
              "      <th>2</th>\n",
              "      <td>42096287</td>\n",
              "      <td>44568</td>\n",
              "      <td>44132846</td>\n",
              "      <td>2019-07-22 23:10:33</td>\n",
              "      <td>5.0</td>\n",
              "      <td>3</td>\n",
              "      <td>3</td>\n",
              "      <td>4</td>\n",
              "      <td>this place is an absolute delight of you're a ...</td>\n",
              "      <td>502</td>\n",
              "    </tr>\n",
              "    <tr>\n",
              "      <th>3</th>\n",
              "      <td>33538931</td>\n",
              "      <td>44568</td>\n",
              "      <td>44082978</td>\n",
              "      <td>2019-07-20 04:42:05</td>\n",
              "      <td>5.0</td>\n",
              "      <td>5</td>\n",
              "      <td>2</td>\n",
              "      <td>3</td>\n",
              "      <td>this is one of the coolest places for a buffet...</td>\n",
              "      <td>224</td>\n",
              "    </tr>\n",
              "    <tr>\n",
              "      <th>4</th>\n",
              "      <td>34390186</td>\n",
              "      <td>44568</td>\n",
              "      <td>44021065</td>\n",
              "      <td>2019-07-15 22:29:08</td>\n",
              "      <td>4.0</td>\n",
              "      <td>0</td>\n",
              "      <td>1</td>\n",
              "      <td>2</td>\n",
              "      <td>good food, has vast variety to choose from, su...</td>\n",
              "      <td>194</td>\n",
              "    </tr>\n",
              "  </tbody>\n",
              "</table>\n",
              "</div>"
            ],
            "text/plain": [
              "    user_id  ...  text_len\n",
              "0   2042820  ...      1152\n",
              "1  57816837  ...       828\n",
              "2  42096287  ...       502\n",
              "3  33538931  ...       224\n",
              "4  34390186  ...       194\n",
              "\n",
              "[5 rows x 10 columns]"
            ]
          },
          "metadata": {
            "tags": []
          },
          "execution_count": 8
        }
      ]
    },
    {
      "cell_type": "markdown",
      "metadata": {
        "id": "1kSnYFUCg-_O",
        "colab_type": "text"
      },
      "source": [
        "# Visualising the data"
      ]
    },
    {
      "cell_type": "code",
      "metadata": {
        "id": "GyquKmEThMKj",
        "colab_type": "code",
        "colab": {
          "base_uri": "https://localhost:8080/",
          "height": 154
        },
        "outputId": "37a92d9b-7be8-4ebe-f440-d4e15ecdd180"
      },
      "source": [
        "graph1 = sns.FacetGrid(data=sdf, col='rating')\n",
        "graph1.map(plt.hist, 'text_len', color = 'green', bins = 50)"
      ],
      "execution_count": 9,
      "outputs": [
        {
          "output_type": "execute_result",
          "data": {
            "text/plain": [
              "<seaborn.axisgrid.FacetGrid at 0x7f99a292a128>"
            ]
          },
          "metadata": {
            "tags": []
          },
          "execution_count": 9
        },
        {
          "output_type": "display_data",
          "data": {
            "image/png": "[encoded data removed]",
            "text/plain": [
              "<Figure size 1944x216 with 9 Axes>"
            ]
          },
          "metadata": {
            "tags": [],
            "needs_background": "light"
          }
        }
      ]
    },
    {
      "cell_type": "code",
      "metadata": {
        "id": "RRkz4Y9chtov",
        "colab_type": "code",
        "colab": {
          "base_uri": "https://localhost:8080/",
          "height": 324
        },
        "outputId": "ac147d37-c537-48a8-c2ee-fec220311a55"
      },
      "source": [
        "#Grouping the data using start rating and finding if any correlation \n",
        "rating = sdf.groupby('rating').mean()\n",
        "rating.corr()\n",
        "sns.heatmap(data = rating.corr(), annot = True)\n",
        "\n",
        "#### This shows that funny is strongly correlated to useful and useful is strongly correlated to text_len\n",
        "#### Thus, we can say that longer reviews are more funny and useful"
      ],
      "execution_count": 10,
      "outputs": [
        {
          "output_type": "execute_result",
          "data": {
            "text/plain": [
              "<matplotlib.axes._subplots.AxesSubplot at 0x7f999f98d048>"
            ]
          },
          "metadata": {
            "tags": []
          },
          "execution_count": 10
        },
        {
          "output_type": "display_data",
          "data": {
            "image/png": "[encoded data removed]",
            "text/plain": [
              "<Figure size 432x288 with 2 Axes>"
            ]
          },
          "metadata": {
            "tags": [],
            "needs_background": "light"
          }
        }
      ]
    },
    {
      "cell_type": "code",
      "metadata": {
        "id": "RixqVakUiDk0",
        "colab_type": "code",
        "colab": {
          "base_uri": "https://localhost:8080/",
          "height": 218
        },
        "outputId": "e606f87e-6b87-4f86-a044-b1683b1a9a9e"
      },
      "source": [
        "#Preparing for classification\n",
        "sdf_class = sdf[(sdf['rating'] == 1) | (sdf['rating']==5)]\n",
        "sdf_class.shape\n",
        "\n",
        "#putting them in seperate variable\n",
        "x = sdf_class['content']\n",
        "y = sdf_class['rating']\n",
        "print(x.head())\n",
        "print(y.head())"
      ],
      "execution_count": 11,
      "outputs": [
        {
          "output_type": "stream",
          "text": [
            "0    i have been a very loyal customer to global fu...\n",
            "1    visited first time on my visit to mumbai and f...\n",
            "2    this place is an absolute delight of you're a ...\n",
            "3    this is one of the coolest places for a buffet...\n",
            "5    a buffet with endless choices, global fusion g...\n",
            "Name: content, dtype: object\n",
            "0    1.0\n",
            "1    5.0\n",
            "2    5.0\n",
            "3    5.0\n",
            "5    5.0\n",
            "Name: rating, dtype: float64\n"
          ],
          "name": "stdout"
        }
      ]
    },
    {
      "cell_type": "code",
      "metadata": {
        "id": "UbpCi96UiWyr",
        "colab_type": "code",
        "colab": {}
      },
      "source": [
        "#Data cleaning by removing stop words and puntuation\n",
        "import string\n",
        "def text_process(content):\n",
        "  nopunc = [char for char in content if char not in string.punctuation]\n",
        "  nopunc = ''.join(nopunc)\n",
        "  return [word for word in nopunc.split() if word.lower() not in stopwords.words('english')]"
      ],
      "execution_count": 0,
      "outputs": []
    },
    {
      "cell_type": "markdown",
      "metadata": {
        "id": "RAEWYrz4ilnV",
        "colab_type": "text"
      },
      "source": [
        "# Performing Vectorization"
      ]
    },
    {
      "cell_type": "code",
      "metadata": {
        "id": "Cxe5FFFljo5_",
        "colab_type": "code",
        "colab": {
          "base_uri": "https://localhost:8080/",
          "height": 67
        },
        "outputId": "6fe5d79d-9128-41cc-ccba-36503aa7d468"
      },
      "source": [
        "nltk.download(\"stopwords\")"
      ],
      "execution_count": 15,
      "outputs": [
        {
          "output_type": "stream",
          "text": [
            "[nltk_data] Downloading package stopwords to /root/nltk_data...\n",
            "[nltk_data]   Unzipping corpora/stopwords.zip.\n"
          ],
          "name": "stdout"
        },
        {
          "output_type": "execute_result",
          "data": {
            "text/plain": [
              "True"
            ]
          },
          "metadata": {
            "tags": []
          },
          "execution_count": 15
        }
      ]
    },
    {
      "cell_type": "code",
      "metadata": {
        "id": "6lJtO2PvirDI",
        "colab_type": "code",
        "colab": {
          "base_uri": "https://localhost:8080/",
          "height": 34
        },
        "outputId": "b1b6269a-7180-444a-85a6-38d4347b544d"
      },
      "source": [
        "#Import countVectorizer and define it with a variable. Along with that we will fit it to our review text stored in x\n",
        "from sklearn.feature_extraction.text import CountVectorizer\n",
        "\n",
        "vectorizer = CountVectorizer(analyzer = text_process).fit(x)\n",
        "print(len(vectorizer.vocabulary_))"
      ],
      "execution_count": 16,
      "outputs": [
        {
          "output_type": "stream",
          "text": [
            "9182\n"
          ],
          "name": "stdout"
        }
      ]
    },
    {
      "cell_type": "code",
      "metadata": {
        "id": "viAbbp86jmxW",
        "colab_type": "code",
        "colab": {
          "base_uri": "https://localhost:8080/",
          "height": 961
        },
        "outputId": "67cbef19-d52f-476f-eadd-b6db7753d8d3"
      },
      "source": [
        "review_0 = x[0]\n",
        "print(review_0)\n",
        "vocab_0 = vectorizer.transform([review_0])\n",
        "print(vocab_0)\n",
        "\n",
        "print(\"Following Words back\")\n",
        "print(vectorizer.get_feature_names()[1144])\n",
        "print(vectorizer.get_feature_names()[2027])"
      ],
      "execution_count": 17,
      "outputs": [
        {
          "output_type": "stream",
          "text": [
            "i have been a very loyal customer to global fusion for past years, but past times global fusion is been very disapointing firstly when we went, there were no fruits and salads wich r alwys der lik mango and papaya secondly the fork that was given to wat ws so big in size that it felt like serving fork not eating one nobody came to ask if drinks were needed tepenyaki prawns was an absolute disappointment they wer jus plain fried with no taste momos wer extemely dry there was no iceberg in iceberg chkn crispy corn and pepper mushroom were too salty i have been so particular with the name of the dishes bcz i hv been so regular to versova n andheri branch and hv been the biggest fan bt smhow bandra and worli dsnt appeal dt mch to me i mean global fusion is known for their spread and there was no salad to go wd appetisers !!! the cherry on the cake was wen v went to hv our desserts, i askd fr tea spoon he said dey dont have u u belive we had those small gulab jamun n icecream with those big serving spoons i mean hw cn u nt hv dessert spoon in a restaurant lik global fusion !! u reli need to work on this cz u may lose on a very loyal client\n",
            "  (0, 24)\t1\n",
            "  (0, 237)\t1\n",
            "  (0, 299)\t1\n",
            "  (0, 352)\t1\n",
            "  (0, 363)\t1\n",
            "  (0, 454)\t1\n",
            "  (0, 455)\t1\n",
            "  (0, 639)\t1\n",
            "  (0, 718)\t1\n",
            "  (0, 767)\t1\n",
            "  (0, 837)\t2\n",
            "  (0, 839)\t1\n",
            "  (0, 996)\t1\n",
            "  (0, 1055)\t1\n",
            "  (0, 1139)\t1\n",
            "  (0, 1153)\t1\n",
            "  (0, 1363)\t1\n",
            "  (0, 1426)\t1\n",
            "  (0, 1515)\t1\n",
            "  (0, 1531)\t1\n",
            "  (0, 1746)\t1\n",
            "  (0, 1858)\t1\n",
            "  (0, 1938)\t1\n",
            "  (0, 1953)\t1\n",
            "  (0, 2117)\t1\n",
            "  :\t:\n",
            "  (0, 7074)\t1\n",
            "  (0, 7148)\t2\n",
            "  (0, 7375)\t1\n",
            "  (0, 7414)\t1\n",
            "  (0, 7428)\t1\n",
            "  (0, 7614)\t2\n",
            "  (0, 7615)\t1\n",
            "  (0, 7622)\t1\n",
            "  (0, 8070)\t1\n",
            "  (0, 8107)\t1\n",
            "  (0, 8143)\t1\n",
            "  (0, 8290)\t1\n",
            "  (0, 8506)\t5\n",
            "  (0, 8631)\t1\n",
            "  (0, 8703)\t1\n",
            "  (0, 8829)\t1\n",
            "  (0, 8844)\t1\n",
            "  (0, 8880)\t1\n",
            "  (0, 8881)\t2\n",
            "  (0, 8882)\t2\n",
            "  (0, 8926)\t1\n",
            "  (0, 8994)\t1\n",
            "  (0, 9002)\t1\n",
            "  (0, 9028)\t1\n",
            "  (0, 9054)\t1\n",
            "Following Words back\n",
            "californiamaki\n",
            "decor\n"
          ],
          "name": "stdout"
        }
      ]
    },
    {
      "cell_type": "code",
      "metadata": {
        "id": "sQSwhnD0moq1",
        "colab_type": "code",
        "colab": {
          "base_uri": "https://localhost:8080/",
          "height": 50
        },
        "outputId": "f1b3b031-305a-4ab7-8ba5-37a2a028c500"
      },
      "source": [
        "#Now applying vectorization to the ful review set which would check the shape of new x\n",
        "x = vectorizer.transform(x)\n",
        "print('Shape of Sparse Matrix: ',x.shape)\n",
        "print('Amount of Non-zero occurances:',x.nnz)"
      ],
      "execution_count": 18,
      "outputs": [
        {
          "output_type": "stream",
          "text": [
            "Shape of Sparse Matrix:  (2064, 9182)\n",
            "Amount of Non-zero occurances: 82750\n"
          ],
          "name": "stdout"
        }
      ]
    },
    {
      "cell_type": "code",
      "metadata": {
        "id": "B6SQ_eggpc0a",
        "colab_type": "code",
        "colab": {
          "base_uri": "https://localhost:8080/",
          "height": 34
        },
        "outputId": "5c1f7cee-53a6-4ec7-c503-7890b1561517"
      },
      "source": [
        "# Percentage of non-zero values\n",
        "density = (100.0 * x.nnz / (x.shape[0] * x.shape[1]))\n",
        "print(\"Density = \",density)"
      ],
      "execution_count": 19,
      "outputs": [
        {
          "output_type": "stream",
          "text": [
            "Density =  0.43663748925687096\n"
          ],
          "name": "stdout"
        }
      ]
    },
    {
      "cell_type": "markdown",
      "metadata": {
        "id": "XQHLN_RKptbD",
        "colab_type": "text"
      },
      "source": [
        "# Splitting the data into train and test"
      ]
    },
    {
      "cell_type": "code",
      "metadata": {
        "id": "Uib-jjB1pxJd",
        "colab_type": "code",
        "colab": {}
      },
      "source": [
        "#Splitting the dataset into training data and test data in the proportion of 80:20\n",
        "from sklearn.model_selection import train_test_split\n",
        "x_train,x_test,y_train,y_test = train_test_split(x,y,test_size=0.2,random_state=101)"
      ],
      "execution_count": 0,
      "outputs": []
    },
    {
      "cell_type": "markdown",
      "metadata": {
        "id": "q5tmTbNkq2SD",
        "colab_type": "text"
      },
      "source": [
        "# Applying the classification method"
      ]
    },
    {
      "cell_type": "markdown",
      "metadata": {
        "id": "M2A0LPvHq8eY",
        "colab_type": "text"
      },
      "source": [
        "# Multinomial Naive Bayes"
      ]
    },
    {
      "cell_type": "code",
      "metadata": {
        "id": "PLaIKsC8rB3A",
        "colab_type": "code",
        "colab": {
          "base_uri": "https://localhost:8080/",
          "height": 34
        },
        "outputId": "0666233e-0d49-479a-f694-99c02f22dd6e"
      },
      "source": [
        "#Building the model\n",
        "from sklearn.naive_bayes import MultinomialNB\n",
        "nb = MultinomialNB()\n",
        "nb.fit(x_train, y_train)"
      ],
      "execution_count": 21,
      "outputs": [
        {
          "output_type": "execute_result",
          "data": {
            "text/plain": [
              "MultinomialNB(alpha=1.0, class_prior=None, fit_prior=True)"
            ]
          },
          "metadata": {
            "tags": []
          },
          "execution_count": 21
        }
      ]
    },
    {
      "cell_type": "code",
      "metadata": {
        "id": "ctbQC2kyq574",
        "colab_type": "code",
        "colab": {}
      },
      "source": [
        "#Testing our model\n",
        "nb_predict = nb.predict(x_test)"
      ],
      "execution_count": 0,
      "outputs": []
    },
    {
      "cell_type": "code",
      "metadata": {
        "id": "uN8inpdkrOLY",
        "colab_type": "code",
        "colab": {
          "base_uri": "https://localhost:8080/",
          "height": 252
        },
        "outputId": "b5b34f12-68cc-47d4-d68e-bca1b2852200"
      },
      "source": [
        "#Creating the confusion matrix\n",
        "from sklearn.metrics import confusion_matrix, classification_report\n",
        "print(confusion_matrix(y_test, nb_predict))\n",
        "\n",
        "\n",
        "print('\\n')\n",
        "\n",
        "#Creating the classification report\n",
        "print(classification_report(y_test, nb_predict))  ### The model achieved 94% accuracy. \n",
        "                                                  ### However, since we know that there are some bias values, \n",
        "                                                  ### so let's just test it on a single review.\n",
        "\n",
        "#positive single review\n",
        "pos_review = sdf_class['content'][59]\n",
        "pos_review\n",
        "\n",
        "pos_review_t = vectorizer.transform([pos_review])\n",
        "nb.predict(pos_review_t)[0]                       ### 5 star rating which is good as expected \n",
        "\n",
        "\n",
        "#Negative single review\n",
        "neg_review = sdf_class['content'][281]\n",
        "neg_review\n",
        "\n",
        "neg_review_t = vectorizer.transform([neg_review])\n",
        "nb.predict(neg_review_t)[0]                       ### 1 star rating which is fine as exp"
      ],
      "execution_count": 23,
      "outputs": [
        {
          "output_type": "stream",
          "text": [
            "[[ 58  16]\n",
            " [  9 330]]\n",
            "\n",
            "\n",
            "              precision    recall  f1-score   support\n",
            "\n",
            "         1.0       0.87      0.78      0.82        74\n",
            "         5.0       0.95      0.97      0.96       339\n",
            "\n",
            "    accuracy                           0.94       413\n",
            "   macro avg       0.91      0.88      0.89       413\n",
            "weighted avg       0.94      0.94      0.94       413\n",
            "\n"
          ],
          "name": "stdout"
        },
        {
          "output_type": "execute_result",
          "data": {
            "text/plain": [
              "5.0"
            ]
          },
          "metadata": {
            "tags": []
          },
          "execution_count": 23
        }
      ]
    },
    {
      "cell_type": "markdown",
      "metadata": {
        "id": "k5ZCFccVr9I0",
        "colab_type": "text"
      },
      "source": [
        "# K-NN classifier"
      ]
    },
    {
      "cell_type": "code",
      "metadata": {
        "id": "jXtd86PPsAXI",
        "colab_type": "code",
        "colab": {
          "base_uri": "https://localhost:8080/",
          "height": 235
        },
        "outputId": "b655a9ca-74be-4550-a4f9-cb84d9971995"
      },
      "source": [
        "#Building the model\n",
        "from sklearn.neighbors import KNeighborsClassifier\n",
        "knn = KNeighborsClassifier()\n",
        "knn.fit(x_train, y_train)\n",
        "\n",
        "#Testing our model on x_test\n",
        "knn_predict = knn.predict(x_test)\n",
        "\n",
        "#Creating the confusion matrix\n",
        "from sklearn.metrics import confusion_matrix, classification_report\n",
        "print(confusion_matrix(y_test, knn_predict))\n",
        "\n",
        "print('\\n')\n",
        "\n",
        "#Creating the classification report\n",
        "print(classification_report(y_test, knn_predict))  ### The model achieved 83% accuracy"
      ],
      "execution_count": 24,
      "outputs": [
        {
          "output_type": "stream",
          "text": [
            "[[ 24  50]\n",
            " [ 13 326]]\n",
            "\n",
            "\n",
            "              precision    recall  f1-score   support\n",
            "\n",
            "         1.0       0.65      0.32      0.43        74\n",
            "         5.0       0.87      0.96      0.91       339\n",
            "\n",
            "    accuracy                           0.85       413\n",
            "   macro avg       0.76      0.64      0.67       413\n",
            "weighted avg       0.83      0.85      0.83       413\n",
            "\n"
          ],
          "name": "stdout"
        }
      ]
    },
    {
      "cell_type": "markdown",
      "metadata": {
        "id": "AiyQgMRTsZmB",
        "colab_type": "text"
      },
      "source": [
        "# Support Vector Machine"
      ]
    },
    {
      "cell_type": "code",
      "metadata": {
        "id": "pfv3wWvOsd-p",
        "colab_type": "code",
        "colab": {
          "base_uri": "https://localhost:8080/",
          "height": 235
        },
        "outputId": "5d08dde8-b73f-428f-f890-1a62e9fad61a"
      },
      "source": [
        "from sklearn.svm import SVC\n",
        "svm = SVC()\n",
        "svm.fit(x_train, y_train)\n",
        "\n",
        "#Testing our model on x_test\n",
        "svm_predict = svm.predict(x_test)\n",
        "\n",
        "#Creating the confusion matrix\n",
        "from sklearn.metrics import confusion_matrix, classification_report\n",
        "print(confusion_matrix(y_test, svm_predict))\n",
        "\n",
        "print('\\n')\n",
        "\n",
        "#Creating the classification report\n",
        "print(classification_report(y_test, svm_predict)) ### The model achieved 90% accuracy"
      ],
      "execution_count": 25,
      "outputs": [
        {
          "output_type": "stream",
          "text": [
            "[[ 36  38]\n",
            " [  4 335]]\n",
            "\n",
            "\n",
            "              precision    recall  f1-score   support\n",
            "\n",
            "         1.0       0.90      0.49      0.63        74\n",
            "         5.0       0.90      0.99      0.94       339\n",
            "\n",
            "    accuracy                           0.90       413\n",
            "   macro avg       0.90      0.74      0.79       413\n",
            "weighted avg       0.90      0.90      0.89       413\n",
            "\n"
          ],
          "name": "stdout"
        }
      ]
    },
    {
      "cell_type": "markdown",
      "metadata": {
        "id": "F4ArIPUcsqzq",
        "colab_type": "text"
      },
      "source": [
        "# Random Forest Classifier"
      ]
    },
    {
      "cell_type": "code",
      "metadata": {
        "id": "5Ber_ZqFssZe",
        "colab_type": "code",
        "colab": {
          "base_uri": "https://localhost:8080/",
          "height": 235
        },
        "outputId": "f15a368b-4596-43fc-af68-397b0a414314"
      },
      "source": [
        "#Building the model\n",
        "from sklearn.ensemble import RandomForestClassifier\n",
        "rf = RandomForestClassifier()\n",
        "rf.fit(x_train, y_train)\n",
        "\n",
        "#Testing our model on x_test\n",
        "rf_predict = rf.predict(x_test)\n",
        "\n",
        "#Creating the confusion matrix\n",
        "from sklearn.metrics import confusion_matrix, classification_report\n",
        "print(confusion_matrix(y_test, rf_predict))\n",
        "\n",
        "print('\\n')\n",
        "\n",
        "#Creating the classification report\n",
        "print(classification_report(y_test, rf_predict))  ### The model achieved 93% accuracy"
      ],
      "execution_count": 26,
      "outputs": [
        {
          "output_type": "stream",
          "text": [
            "[[ 50  24]\n",
            " [  4 335]]\n",
            "\n",
            "\n",
            "              precision    recall  f1-score   support\n",
            "\n",
            "         1.0       0.93      0.68      0.78        74\n",
            "         5.0       0.93      0.99      0.96       339\n",
            "\n",
            "    accuracy                           0.93       413\n",
            "   macro avg       0.93      0.83      0.87       413\n",
            "weighted avg       0.93      0.93      0.93       413\n",
            "\n"
          ],
          "name": "stdout"
        }
      ]
    }
  ]
}